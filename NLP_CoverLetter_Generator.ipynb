{
  "nbformat": 4,
  "nbformat_minor": 0,
  "metadata": {
    "colab": {
      "name": "CoverLetter.ipynb",
      "provenance": []
    },
    "kernelspec": {
      "name": "python3",
      "display_name": "Python 3"
    },
    "language_info": {
      "name": "python"
    }
  },
  "cells": [
    {
      "cell_type": "code",
      "source": [
        "pip install openai"
      ],
      "metadata": {
        "id": "i5DKcr2TpUQ3"
      },
      "execution_count": null,
      "outputs": []
    },
    {
      "cell_type": "code",
      "execution_count": 12,
      "metadata": {
        "colab": {
          "base_uri": "https://localhost:8080/"
        },
        "id": "aRIWRrChnmuw",
        "outputId": "a6acaafe-13a3-4093-ed30-66a456d4f973"
      },
      "outputs": [
        {
          "output_type": "stream",
          "name": "stdout",
          "text": [
            "** Loading API Key\n",
            "Prompt: Write a cover letter to Hiring Manager from Kartik Mathur for a SDE1 job at Google. I have experience in natural language processing, fraud detection, statistical modeling, and machine learning algorithms.  I am excited about the job because this role will allow me to work on technically challenging problems and create impactful solutions while working with an innovative team.  I am passionate about solving problems at the intersection of technology and social good.\n",
            "Response: \n",
            "\n",
            "Hello Hiring Manager,\n",
            "\n",
            "I am writing to apply for the SDE1 job at Google. I am excited about this role because it will allow me to work on technically challenging problems and create impactful solutions while working with an innovative team. \n",
            "\n",
            "I have experience in natural language processing, fraud detection, statistical modeling, and machine learning algorithms. My skills and experience will enable me to be successful in this role. Additionally, I am passionate about solving problems at the intersection of technology and social good. I believe that my skills and experiences will contribute to the success of Google.\n",
            "\n",
            "Thank you for your time and consideration. I look forward to hearing from you.\n",
            "\n",
            "Sincerely,\n",
            "\n",
            "Kartik Mathur\n"
          ]
        }
      ],
      "source": [
        "import openai as ai\n",
        "import json\n",
        "\n",
        "print(\"** Loading API Key\")\n",
        "ai.api_key = \"INSERT API KEY\"\n",
        "\n",
        "model_used = \"text-davinci-002\"\n",
        "\"\"\"st.selectbox(\n",
        "     'GPT-3 Model',\n",
        "    #  ('DaVinci', 'Curie', 'Babbage', 'Ada'))\n",
        "    ('text-davinci-002', 'text-curie-001', 'text-babbage-001', 'text-ada-001'))\"\"\"\n",
        "\n",
        "contact_person = \"Hiring Manager\"\n",
        "your_name = \"Kartik Mathur\"\n",
        "role = \"SDE1\"\n",
        "company_name = \"Google\"\n",
        "personal_exp = \"natural language processing, fraud detection, statistical modeling, and machine learning algorithms. \"\n",
        "job_desc = \"this role will allow me to work on technically challenging problems and create impactful solutions while working with an innovative team. \"\n",
        "passion = \"solving problems at the intersection of technology and social good.\"\n",
        "prompt = (\"Write a cover letter to \" + contact_person + \" from \" + your_name +\" for a \" + role + \" job at \" + company_name +\".\" + \" I have experience in \" +personal_exp + \" I am excited about the job because \" +job_desc + \" I am passionate about \"+ passion)\n",
        "\n",
        "    # The Model\n",
        "response = ai.Completion.create(\n",
        "        engine = model_used,\n",
        "        # engine=\"text-davinci-002\", # OpenAI has made four text completion engines available, named davinci, ada, babbage and curie. We are using davinci, which is the most capable of the four.\n",
        "        prompt=prompt, # The text file we use as input (step 3)\n",
        "        max_tokens=1949, # how many maximum characters the text will consists of.\n",
        "        temperature=0.99,\n",
        "        # temperature=int(temperature), # a number between 0 and 1 that determines how many creative risks the engine takes when generating text.,\n",
        "        top_p=1, # an alternative way to control the originality and creativity of the generated text.\n",
        "        n=1, # number of predictions to generate\n",
        "        frequency_penalty=0.3, # a number between 0 and 1. The higher this value the model will make a bigger effort in not repeating itself.\n",
        "        presence_penalty=0.9 # a number between 0 and 1. The higher this value the model will make a bigger effort in talking about new topics.\n",
        "    )\n",
        "\n",
        "\n",
        "text = response['choices'][0]['text']\n",
        "print(\"Prompt:\", prompt)\n",
        "print(\"Response:\", text)"
      ]
    }
  ]
}